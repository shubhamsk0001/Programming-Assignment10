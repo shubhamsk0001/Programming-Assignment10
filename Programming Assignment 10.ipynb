{
 "cells": [
  {
   "cell_type": "code",
   "execution_count": null,
   "id": "fe2123b0",
   "metadata": {},
   "outputs": [],
   "source": [
    "1. Write a Python program to find sum of elements in list?"
   ]
  },
  {
   "cell_type": "code",
   "execution_count": 1,
   "id": "828f8a71",
   "metadata": {},
   "outputs": [
    {
     "name": "stdout",
     "output_type": "stream",
     "text": [
      "sum of elements in list=142\n"
     ]
    }
   ],
   "source": [
    "a=[4,9,7,6,8,9,6,9,6,9,7,5,9,5,3,5,8,9,7,6,5]\n",
    "sum=0\n",
    "for i in a:\n",
    "    sum=sum+i\n",
    "print(f\"sum of elements in list={sum}\")"
   ]
  },
  {
   "cell_type": "code",
   "execution_count": null,
   "id": "fbe4d26e",
   "metadata": {},
   "outputs": [],
   "source": [
    "2. Write a Python program to Multiply all numbers in the list?"
   ]
  },
  {
   "cell_type": "code",
   "execution_count": 2,
   "id": "cc7d90cb",
   "metadata": {},
   "outputs": [
    {
     "name": "stdout",
     "output_type": "stream",
     "text": [
      "Multiplication all numbers in the list=113395394327040000\n"
     ]
    }
   ],
   "source": [
    "a=[4,9,7,6,8,9,6,9,6,9,7,5,9,5,3,5,8,9,7,6,5]\n",
    "prod=1\n",
    "for i in a:\n",
    "    prod=prod*i\n",
    "print(f\"Multiplication all numbers in the list={prod}\")"
   ]
  },
  {
   "cell_type": "code",
   "execution_count": null,
   "id": "19daa5f3",
   "metadata": {},
   "outputs": [],
   "source": [
    "3. Write a Python program to find smallest number in a list?"
   ]
  },
  {
   "cell_type": "code",
   "execution_count": 5,
   "id": "392d0043",
   "metadata": {},
   "outputs": [
    {
     "name": "stdout",
     "output_type": "stream",
     "text": [
      "smallest number in a list=3\n"
     ]
    }
   ],
   "source": [
    "a=[4,9,7,6,8,9,6,9,6,9,7,5,9,5,3,5,8,9,7,6,5]\n",
    "mi=min(a)\n",
    "print(f\"smallest number in a list={mi}\")"
   ]
  },
  {
   "cell_type": "code",
   "execution_count": null,
   "id": "1ddce543",
   "metadata": {},
   "outputs": [],
   "source": [
    "4. Write a Python program to find largest number in a list?"
   ]
  },
  {
   "cell_type": "code",
   "execution_count": 6,
   "id": "c9e24454",
   "metadata": {},
   "outputs": [
    {
     "name": "stdout",
     "output_type": "stream",
     "text": [
      "largest number in a list=9\n"
     ]
    }
   ],
   "source": [
    "a=[4,9,7,6,8,9,6,9,6,9,7,5,9,5,3,5,8,9,7,6,5]\n",
    "ma=max(a)\n",
    "print(f\"largest number in a list={ma}\")"
   ]
  },
  {
   "cell_type": "code",
   "execution_count": null,
   "id": "cdc897cc",
   "metadata": {},
   "outputs": [],
   "source": [
    "5. Write a Python program to find second largest number in a list?"
   ]
  },
  {
   "cell_type": "code",
   "execution_count": 8,
   "id": "601fa50e",
   "metadata": {},
   "outputs": [
    {
     "name": "stdout",
     "output_type": "stream",
     "text": [
      "second largest number in a list=8\n"
     ]
    }
   ],
   "source": [
    "a=[4,9,7,6,8,9,6,9,6,9,7,5,9,5,3,5,8,9,7,6,5]\n",
    "ma=max(a)\n",
    "for i in a:\n",
    "    if ma==i:\n",
    "        a.remove(i)\n",
    "    else:\n",
    "        continue\n",
    "ma2=max(a)\n",
    "print(f\"second largest number in a list={ma2}\")"
   ]
  },
  {
   "cell_type": "code",
   "execution_count": null,
   "id": "eeadcd6d",
   "metadata": {},
   "outputs": [],
   "source": [
    "6. Write a Python program to find N largest elements from a list?"
   ]
  },
  {
   "cell_type": "code",
   "execution_count": 9,
   "id": "8cc79a4c",
   "metadata": {},
   "outputs": [
    {
     "name": "stdout",
     "output_type": "stream",
     "text": [
      "N largest elements from a list=5\n"
     ]
    }
   ],
   "source": [
    "a=[4,9,7,6,8,9,6,9,6,9,7,5,9,5,3,5,8,9,7,6,5]\n",
    "print(f\"N largest elements from a list={a[-1]}\")"
   ]
  },
  {
   "cell_type": "code",
   "execution_count": null,
   "id": "f28206ef",
   "metadata": {},
   "outputs": [],
   "source": [
    "7. Write a Python program to print even numbers in a list?"
   ]
  },
  {
   "cell_type": "code",
   "execution_count": 11,
   "id": "8f89b3d0",
   "metadata": {},
   "outputs": [
    {
     "name": "stdout",
     "output_type": "stream",
     "text": [
      "even numbers in a list\n",
      "4\n",
      "6\n",
      "8\n",
      "6\n",
      "6\n",
      "8\n",
      "6\n"
     ]
    }
   ],
   "source": [
    "a=[4,9,7,6,8,9,6,9,6,9,7,5,9,5,3,5,8,9,7,6,5]\n",
    "print(\"even numbers in a list\")\n",
    "for i in a:\n",
    "    if i%2==0:\n",
    "        print(i)"
   ]
  },
  {
   "cell_type": "code",
   "execution_count": null,
   "id": "2c30bd27",
   "metadata": {},
   "outputs": [],
   "source": [
    "8. Write a Python program to print odd numbers in a List?"
   ]
  },
  {
   "cell_type": "code",
   "execution_count": 12,
   "id": "a817fa01",
   "metadata": {},
   "outputs": [
    {
     "name": "stdout",
     "output_type": "stream",
     "text": [
      "odd numbers in a list\n",
      "9\n",
      "7\n",
      "9\n",
      "9\n",
      "9\n",
      "7\n",
      "5\n",
      "9\n",
      "5\n",
      "3\n",
      "5\n",
      "9\n",
      "7\n",
      "5\n"
     ]
    }
   ],
   "source": [
    "a=[4,9,7,6,8,9,6,9,6,9,7,5,9,5,3,5,8,9,7,6,5]\n",
    "print(\"odd numbers in a list\")\n",
    "for i in a:\n",
    "    if i%2!=0:\n",
    "        print(i)"
   ]
  },
  {
   "cell_type": "code",
   "execution_count": null,
   "id": "4e5a73b6",
   "metadata": {},
   "outputs": [],
   "source": [
    "9. Write a Python program to Remove empty List from List?"
   ]
  },
  {
   "cell_type": "code",
   "execution_count": 13,
   "id": "4cfed68b",
   "metadata": {},
   "outputs": [
    {
     "name": "stdout",
     "output_type": "stream",
     "text": [
      "Original list:\n",
      "[[], [], [], 'Red', 'Green', [1, 2], 'Blue', [], []]\n",
      "\n",
      "After deleting the empty lists from the said lists of lists\n",
      "['Red', 'Green', [1, 2], 'Blue']\n"
     ]
    }
   ],
   "source": [
    "list1 = [[], [], [], 'Red', 'Green', [1,2], 'Blue', [], []]\n",
    "print(\"Original list:\")\n",
    "print(list1)\n",
    "print(\"\\nAfter deleting the empty lists from the said lists of lists\")\n",
    "list2 = [x for x in list1 if x]\n",
    "print(list2)"
   ]
  },
  {
   "cell_type": "code",
   "execution_count": null,
   "id": "298e43bb",
   "metadata": {},
   "outputs": [],
   "source": [
    "10. Write a Python program to Cloning or Copying a list?"
   ]
  },
  {
   "cell_type": "code",
   "execution_count": 14,
   "id": "a8eb429b",
   "metadata": {},
   "outputs": [
    {
     "name": "stdout",
     "output_type": "stream",
     "text": [
      "[10, 22, 44, 23, 4]\n",
      "[10, 22, 44, 23, 4]\n"
     ]
    }
   ],
   "source": [
    "original_list = [10, 22, 44, 23, 4]\n",
    "new_list = list(original_list)\n",
    "print(original_list)\n",
    "print(new_list)"
   ]
  },
  {
   "cell_type": "code",
   "execution_count": null,
   "id": "ab46fa31",
   "metadata": {},
   "outputs": [],
   "source": [
    "11. Write a Python program to Count occurrences of an element in a list?"
   ]
  },
  {
   "cell_type": "code",
   "execution_count": 19,
   "id": "82c4a3e2",
   "metadata": {},
   "outputs": [
    {
     "name": "stdout",
     "output_type": "stream",
     "text": [
      "Enter the no whose occurences to be found=9\n"
     ]
    },
    {
     "data": {
      "text/plain": [
       "6"
      ]
     },
     "execution_count": 19,
     "metadata": {},
     "output_type": "execute_result"
    }
   ],
   "source": [
    "a=[4,9,7,6,8,9,6,9,6,9,7,5,9,5,3,5,8,9,7,6,5]\n",
    "n=int(input(\"Enter the no whose occurences to be found=\"))\n",
    "a.count(n)      "
   ]
  }
 ],
 "metadata": {
  "kernelspec": {
   "display_name": "Python 3 (ipykernel)",
   "language": "python",
   "name": "python3"
  },
  "language_info": {
   "codemirror_mode": {
    "name": "ipython",
    "version": 3
   },
   "file_extension": ".py",
   "mimetype": "text/x-python",
   "name": "python",
   "nbconvert_exporter": "python",
   "pygments_lexer": "ipython3",
   "version": "3.9.12"
  }
 },
 "nbformat": 4,
 "nbformat_minor": 5
}
